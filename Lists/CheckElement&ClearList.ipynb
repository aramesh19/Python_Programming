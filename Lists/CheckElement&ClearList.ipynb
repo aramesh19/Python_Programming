{
 "cells": [
  {
   "cell_type": "code",
   "execution_count": 1,
   "metadata": {},
   "outputs": [
    {
     "name": "stdout",
     "output_type": "stream",
     "text": [
      "Element exists in list\n"
     ]
    }
   ],
   "source": [
    "list=[1,2,3,4,5,6,7]\n",
    "i=7\n",
    "if i in list: \n",
    "    print('Element exists in list')\n",
    "else:\n",
    "    print(\"Elements doesn't exist in list\")"
   ]
  },
  {
   "cell_type": "code",
   "execution_count": 5,
   "metadata": {},
   "outputs": [
    {
     "name": "stdout",
     "output_type": "stream",
     "text": [
      "list before clearing the list: [1, 2, 3, 4, 5]\n",
      "list after clearing: []\n",
      "list after reinitializing: []\n",
      "list after multiplying by 0: []\n",
      "list after clearing using del []\n"
     ]
    }
   ],
   "source": [
    "L1 = [1,2,3,4,5]\n",
    "print(\"list before clearing the list:\", L1)\n",
    "L1.clear()\n",
    "print(\"list after clearing:\", L1)\n",
    "L2 = [1,2,3,4,5]\n",
    "L2 = []\n",
    "print(\"list after reinitializing:\",L2)\n",
    "L2 = [1,2,3,4,5]\n",
    "L2 *= 0\n",
    "print(\"list after multiplying by 0:\", L2)\n",
    "L2 = [1,2,3,4,5]\n",
    "del L2[:]\n",
    "print(\"list after clearing using del\", L2) "
   ]
  },
  {
   "cell_type": "code",
   "execution_count": 8,
   "metadata": {},
   "outputs": [
    {
     "name": "stdout",
     "output_type": "stream",
     "text": [
      "[7, 6, 5, 4, 3, 2, 1]\n",
      "[7, 6, 5, 4, 3, 2, 1]\n"
     ]
    }
   ],
   "source": [
    "L3 = [1,2,3,4,5,6,7]\n",
    "L3.reverse()\n",
    "print(L3)\n",
    "L4 = [1,2,3,4,5,6,7]\n",
    "reversed(L4)\n",
    "print(list(reversed(L4)))"
   ]
  },
  {
   "cell_type": "code",
   "execution_count": 12,
   "metadata": {},
   "outputs": [
    {
     "name": "stdout",
     "output_type": "stream",
     "text": [
      "[7, 6, 5, 4, 3, 2, 1]\n"
     ]
    }
   ],
   "source": [
    "L5 = [1,2,3,4,5,6,7]\n",
    "l=[]\n",
    "for i in L5:\n",
    "    l.insert(0,i)\n",
    "print(l)"
   ]
  },
  {
   "cell_type": "code",
   "execution_count": 14,
   "metadata": {},
   "outputs": [
    {
     "name": "stdout",
     "output_type": "stream",
     "text": [
      "[7, 6, 5, 4, 3, 2, 1]\n"
     ]
    }
   ],
   "source": [
    "L6 = [1,2,3,4,5,6,7]\n",
    "def Reverse(L6):\n",
    "    new_L6 = L6[::-1]\n",
    "    return new_L6\n",
    "\n",
    "print(Reverse(L6))"
   ]
  },
  {
   "cell_type": "code",
   "execution_count": 21,
   "metadata": {},
   "outputs": [
    {
     "name": "stdout",
     "output_type": "stream",
     "text": [
      "range(1, 10)\n",
      "[9, 8, 7, 6, 5, 4, 3, 2, 1]\n"
     ]
    }
   ],
   "source": [
    "L7 = [1,2,3,4,5,6,7,8,9]\n",
    "print(range(1, len(L7)+1))\n",
    "\n",
    "def reverse_list(L7):\n",
    "    return[L7[len(L7) - i] for i in range(1, len(L7)+1)]\n",
    "\n",
    "\n",
    "print(reverse_list(L7))"
   ]
  },
  {
   "cell_type": "code",
   "execution_count": 27,
   "metadata": {},
   "outputs": [],
   "source": []
  },
  {
   "cell_type": "code",
   "execution_count": null,
   "metadata": {},
   "outputs": [],
   "source": []
  }
 ],
 "metadata": {
  "kernelspec": {
   "display_name": "Python 3.9.7 ('base')",
   "language": "python",
   "name": "python3"
  },
  "language_info": {
   "codemirror_mode": {
    "name": "ipython",
    "version": 3
   },
   "file_extension": ".py",
   "mimetype": "text/x-python",
   "name": "python",
   "nbconvert_exporter": "python",
   "pygments_lexer": "ipython3",
   "version": "3.9.7"
  },
  "orig_nbformat": 4,
  "vscode": {
   "interpreter": {
    "hash": "7b6301ddc47fff9ce2ddfda27ac5bf06cbbc1904ca3dc1af5a61c549026f0f42"
   }
  }
 },
 "nbformat": 4,
 "nbformat_minor": 2
}
