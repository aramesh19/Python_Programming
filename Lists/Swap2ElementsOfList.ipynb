{
 "cells": [
  {
   "cell_type": "markdown",
   "metadata": {},
   "source": [
    "**_Program to swap two elements in a list, given their positions._**\n",
    "<br> P1 and P2 are the positions in the list  "
   ]
  },
  {
   "cell_type": "code",
   "execution_count": 26,
   "metadata": {},
   "outputs": [
    {
     "name": "stdout",
     "output_type": "stream",
     "text": [
      "[5, 9, 7, 8, 6, 10, 11]\n"
     ]
    }
   ],
   "source": [
    "def swapPositions(list, p1, p2):\n",
    "    list[p1-1],list[p2-1] = list[p2-1],list[p1-1]\n",
    "    return list\n",
    "\n",
    "l1 = [5,6,7,8,9,10,11]\n",
    "print(swapPositions(l1, 2,5))"
   ]
  },
  {
   "cell_type": "code",
   "execution_count": 17,
   "metadata": {},
   "outputs": [
    {
     "name": "stdout",
     "output_type": "stream",
     "text": [
      "[5, 6, 7, 8, 9, 10, 11]\n",
      "6\n",
      "[5, 7, 8, 9, 10, 11]\n",
      "9\n",
      "[5, 7, 8, 10, 11]\n",
      "[5, 9, 7, 8, 6, 10, 11]\n"
     ]
    }
   ],
   "source": [
    "def swapPositions(list, p1,p2):\n",
    "    print(list)\n",
    "    E1 = list.pop(p1-1)\n",
    "    print(E1)\n",
    "    print(list)\n",
    "    E2 = list.pop(p2-2)\n",
    "    print(E2)\n",
    "    print(list)\n",
    "    list.insert(p1-1,E2)\n",
    "    list.insert(p2-1,E1)\n",
    "    \n",
    "    return list\n",
    "L1 = [5,6,7,8,9,10,11]\n",
    "print(swapPositions(L1, 2,5))"
   ]
  },
  {
   "cell_type": "code",
   "execution_count": 22,
   "metadata": {},
   "outputs": [
    {
     "name": "stdout",
     "output_type": "stream",
     "text": [
      "(6, 9)\n",
      "[5, 9, 7, 8, 6, 10, 11]\n",
      "None\n"
     ]
    }
   ],
   "source": [
    "def swapPositions(list, p1,p2):\n",
    "    t1 = list[p1-1], list[p2-1]\n",
    "    print(t1)\n",
    "    list[p2-1],list[p1-1] = t1\n",
    "    print(list)\n",
    "    \n",
    "L1 = [5,6,7,8,9,10,11]\n",
    "print(swapPositions(L1,2,5))"
   ]
  },
  {
   "cell_type": "code",
   "execution_count": null,
   "metadata": {},
   "outputs": [],
   "source": []
  }
 ],
 "metadata": {
  "kernelspec": {
   "display_name": "Python 3.9.7 ('base')",
   "language": "python",
   "name": "python3"
  },
  "language_info": {
   "codemirror_mode": {
    "name": "ipython",
    "version": 3
   },
   "file_extension": ".py",
   "mimetype": "text/x-python",
   "name": "python",
   "nbconvert_exporter": "python",
   "pygments_lexer": "ipython3",
   "version": "3.9.7"
  },
  "orig_nbformat": 4,
  "vscode": {
   "interpreter": {
    "hash": "7b6301ddc47fff9ce2ddfda27ac5bf06cbbc1904ca3dc1af5a61c549026f0f42"
   }
  }
 },
 "nbformat": 4,
 "nbformat_minor": 2
}
