{
 "cells": [
  {
   "cell_type": "markdown",
   "id": "53610b10",
   "metadata": {},
   "source": [
    "**_Program to swap the first and last elements of a list_** <br>\n",
    "Input: [1,2,3,4,5,6,7,8,9] <br>\n",
    "Output: [9,2,3,4,5,6,7,8,1]"
   ]
  },
  {
   "cell_type": "markdown",
   "id": "83d2338a",
   "metadata": {},
   "source": [
    "Method:1 - if you have two jars, one has milk, another has water, how would you swap them? Use a third (temp) jar to swap the liquids. Find the lenght of the list and swap the first and last element"
   ]
  },
  {
   "cell_type": "code",
   "execution_count": 2,
   "id": "1fbec362",
   "metadata": {},
   "outputs": [
    {
     "name": "stdout",
     "output_type": "stream",
     "text": [
      "[9, 2, 3, 4, 5, 6, 7, 8, 1]\n"
     ]
    }
   ],
   "source": [
    "def swaplist(list1):\n",
    "    n = len(list1)\n",
    "    \n",
    "    temp = list1[0]\n",
    "    list1[0] = list1[n-1]\n",
    "    list1[n-1] = temp\n",
    "    return list1\n",
    "\n",
    "newlist = [1,2,3,4,5,6,7,8,9]\n",
    "\n",
    "print(swaplist(newlist))"
   ]
  },
  {
   "cell_type": "markdown",
   "id": "644de4e6",
   "metadata": {},
   "source": [
    "Method:2 - use the list[-1] to access the last element and swap with list[0]"
   ]
  },
  {
   "cell_type": "code",
   "execution_count": 5,
   "id": "6cd092af",
   "metadata": {},
   "outputs": [
    {
     "name": "stdout",
     "output_type": "stream",
     "text": [
      "[9, 2, 3, 4, 5, 6, 7, 8, 1]\n"
     ]
    }
   ],
   "source": [
    "def swaplist(list1):\n",
    "    list1[0], list1[-1] = list1[-1], list1[0]\n",
    "    return list1\n",
    "\n",
    "newlist = [1,2,3,4,5,6,7,8,9]\n",
    "print(swaplist(newlist))"
   ]
  },
  {
   "cell_type": "markdown",
   "id": "184e9679",
   "metadata": {},
   "source": [
    "Method:3 - use the pop() method"
   ]
  },
  {
   "cell_type": "code",
   "execution_count": 7,
   "id": "bb03ed59",
   "metadata": {},
   "outputs": [
    {
     "name": "stdout",
     "output_type": "stream",
     "text": [
      "[9, 2, 3, 4, 5, 6, 7, 8, 1]\n"
     ]
    }
   ],
   "source": [
    "def swaplist(list1):\n",
    "    first = list1.pop(0)\n",
    "    last = list1.pop(-1)\n",
    "    #insert at 0th position, the \"last\" value that you got above\n",
    "    list1.insert(0, last)\n",
    "    #then use append to add the first value to the end of the list\n",
    "    list1.append(first)\n",
    "    \n",
    "    return list1\n",
    "\n",
    "newlist = [1,2,3,4,5,6,7,8,9]\n",
    "print(swaplist(newlist))    "
   ]
  },
  {
   "cell_type": "markdown",
   "id": "0e822b49",
   "metadata": {},
   "source": []
  },
  {
   "cell_type": "code",
   "execution_count": null,
   "id": "d860dbf8",
   "metadata": {},
   "outputs": [],
   "source": []
  }
 ],
 "metadata": {
  "kernelspec": {
   "display_name": "Python 3 (ipykernel)",
   "language": "python",
   "name": "python3"
  },
  "language_info": {
   "codemirror_mode": {
    "name": "ipython",
    "version": 3
   },
   "file_extension": ".py",
   "mimetype": "text/x-python",
   "name": "python",
   "nbconvert_exporter": "python",
   "pygments_lexer": "ipython3",
   "version": "3.9.7"
  }
 },
 "nbformat": 4,
 "nbformat_minor": 5
}
